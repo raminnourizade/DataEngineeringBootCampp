{
 "cells": [
  {
   "cell_type": "code",
   "execution_count": 1,
   "id": "c11ba9cb-c596-4cd9-b421-b5e60c0d87bc",
   "metadata": {},
   "outputs": [
    {
     "name": "stdout",
     "output_type": "stream",
     "text": [
      "hello world codespaces\n"
     ]
    }
   ],
   "source": [
    "print(\"hello world codespaces\")"
   ]
  }
 ],
 "metadata": {
  "kernelspec": {
   "display_name": "Python 3 (ipykernel)",
   "language": "python",
   "name": "python3"
  },
  "language_info": {
   "codemirror_mode": {
    "name": "ipython",
    "version": 3
   },
   "file_extension": ".py",
   "mimetype": "text/x-python",
   "name": "python",
   "nbconvert_exporter": "python",
   "pygments_lexer": "ipython3",
   "version": "3.12.1"
  }
 },
 "nbformat": 4,
 "nbformat_minor": 5
}
